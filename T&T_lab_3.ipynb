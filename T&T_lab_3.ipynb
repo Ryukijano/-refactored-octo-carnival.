{
  "nbformat": 4,
  "nbformat_minor": 0,
  "metadata": {
    "colab": {
      "name": "T&T lab 3.ipynb",
      "provenance": [],
      "collapsed_sections": [],
      "authorship_tag": "ABX9TyNEJXsGUt6aLtoz0xgycnw6",
      "include_colab_link": true
    },
    "kernelspec": {
      "name": "python3",
      "display_name": "Python 3"
    },
    "language_info": {
      "name": "python"
    }
  },
  "cells": [
    {
      "cell_type": "markdown",
      "metadata": {
        "id": "view-in-github",
        "colab_type": "text"
      },
      "source": [
        "<a href=\"https://colab.research.google.com/github/Ryukijano/-refactored-octo-carnival./blob/master/T%26T_lab_3.ipynb\" target=\"_parent\"><img src=\"https://colab.research.google.com/assets/colab-badge.svg\" alt=\"Open In Colab\"/></a>"
      ]
    },
    {
      "cell_type": "markdown",
      "source": [
        "GYANATEET DUTTA 1930198 ECSE -3 T&T LAB-3 Report\n"
      ],
      "metadata": {
        "id": "3vOE-job906U"
      }
    },
    {
      "cell_type": "markdown",
      "source": [
        "3.1 Python program to display factorial of a number"
      ],
      "metadata": {
        "id": "DEIkxfnK-AjF"
      }
    },
    {
      "cell_type": "code",
      "source": [
        "number = int(input(\"Enter a number: \"))\n",
        "for i in range(1,number+1):\n",
        "  factorial=1\n",
        "  for j in range(1, i+1):\n",
        "    factorial = factorial * j\n",
        "print(i,\"!=\",factorial)"
      ],
      "metadata": {
        "colab": {
          "base_uri": "https://localhost:8080/"
        },
        "id": "yHNUdtKq5Kb2",
        "outputId": "b61e36db-1bf2-4c97-8ff8-6f8d62386f5a"
      },
      "execution_count": 22,
      "outputs": [
        {
          "output_type": "stream",
          "name": "stdout",
          "text": [
            "Enter a number: 4\n",
            "4 != 24\n"
          ]
        }
      ]
    },
    {
      "cell_type": "markdown",
      "source": [
        "3.3 Python program to reverse a number"
      ],
      "metadata": {
        "id": "BjRnl5Vc-K8w"
      }
    },
    {
      "cell_type": "code",
      "source": [
        "n = input(\"Enter a number\")\n",
        "for i in range(len(n)):\n",
        "  reverse=n[::-1]\n",
        "print(reverse)\n"
      ],
      "metadata": {
        "colab": {
          "base_uri": "https://localhost:8080/"
        },
        "id": "PZOWBhaC6jrM",
        "outputId": "34db85cd-8308-4f01-eb27-aee93027b4ca"
      },
      "execution_count": 23,
      "outputs": [
        {
          "output_type": "stream",
          "name": "stdout",
          "text": [
            "Enter a number322\n",
            "223\n"
          ]
        }
      ]
    },
    {
      "cell_type": "markdown",
      "source": [
        "3.2 Python program to sum of digits of a given number"
      ],
      "metadata": {
        "id": "Dl502ZQ7GQ4B"
      }
    },
    {
      "cell_type": "code",
      "source": [
        "number = int(input(\"Enter a number:\"))\n",
        "for i in range(len(str(number))):\n",
        "  sum_of_digits=sum_of_digits+int(str(number)[i])\n",
        "  \n"
      ],
      "metadata": {
        "id": "krePRbHtMY57"
      },
      "execution_count": null,
      "outputs": []
    },
    {
      "cell_type": "code",
      "source": [
        ""
      ],
      "metadata": {
        "id": "munWqkZGOSnB"
      },
      "execution_count": null,
      "outputs": []
    }
  ]
}